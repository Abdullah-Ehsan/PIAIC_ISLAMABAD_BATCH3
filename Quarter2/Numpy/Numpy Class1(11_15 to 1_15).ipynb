{
 "cells": [
  {
   "cell_type": "code",
   "execution_count": 3,
   "metadata": {},
   "outputs": [
    {
     "name": "stdout",
     "output_type": "stream",
     "text": [
      "%history\n",
      "sum([1,3,2])\n",
      "%history\n"
     ]
    }
   ],
   "source": [
    "%history"
   ]
  },
  {
   "cell_type": "code",
   "execution_count": 4,
   "metadata": {},
   "outputs": [],
   "source": [
    "!touch fileName.py"
   ]
  },
  {
   "cell_type": "code",
   "execution_count": null,
   "metadata": {},
   "outputs": [],
   "source": [
    "# %load fileName.py\n",
    "print(\"Line1\")\n",
    "print(\"Line2\")\n"
   ]
  },
  {
   "cell_type": "code",
   "execution_count": 6,
   "metadata": {},
   "outputs": [
    {
     "name": "stdout",
     "output_type": "stream",
     "text": [
      "Line1\n",
      "Line2\n"
     ]
    }
   ],
   "source": [
    "%run fileName.py"
   ]
  },
  {
   "cell_type": "code",
   "execution_count": 7,
   "metadata": {},
   "outputs": [
    {
     "name": "stdout",
     "output_type": "stream",
     "text": [
      "CPU times: user 8 µs, sys: 1 µs, total: 9 µs\n",
      "Wall time: 14.8 µs\n"
     ]
    },
    {
     "data": {
      "text/plain": [
       "8"
      ]
     },
     "execution_count": 7,
     "metadata": {},
     "output_type": "execute_result"
    }
   ],
   "source": [
    "%time sum([1,3,4])"
   ]
  },
  {
   "cell_type": "code",
   "execution_count": 2,
   "metadata": {},
   "outputs": [
    {
     "data": {
      "text/plain": [
       "6"
      ]
     },
     "execution_count": 2,
     "metadata": {},
     "output_type": "execute_result"
    }
   ],
   "source": [
    "sum([1,3,2])"
   ]
  },
  {
   "cell_type": "markdown",
   "metadata": {},
   "source": [
    "## Python Vs Numpy"
   ]
  },
  {
   "cell_type": "code",
   "execution_count": 13,
   "metadata": {},
   "outputs": [
    {
     "name": "stdout",
     "output_type": "stream",
     "text": [
      "CPU times: user 79 ms, sys: 42.2 ms, total: 121 ms\n",
      "Wall time: 127 ms\n"
     ]
    }
   ],
   "source": [
    "%time l1 = list(range(1,3000000))"
   ]
  },
  {
   "cell_type": "code",
   "execution_count": 16,
   "metadata": {},
   "outputs": [
    {
     "name": "stdout",
     "output_type": "stream",
     "text": [
      "CPU times: user 171 ms, sys: 98.1 ms, total: 269 ms\n",
      "Wall time: 311 ms\n"
     ]
    },
    {
     "data": {
      "text/plain": [
       "[6, 7, 8, 9, 10, 11, 12, 13, 14, 15]"
      ]
     },
     "execution_count": 16,
     "metadata": {},
     "output_type": "execute_result"
    }
   ],
   "source": [
    "%time [x+5 for x in l1][:10]"
   ]
  },
  {
   "cell_type": "code",
   "execution_count": 18,
   "metadata": {},
   "outputs": [
    {
     "data": {
      "text/plain": [
       "[(0, 'A'), (1, 'B'), (2, 'C')]"
      ]
     },
     "execution_count": 18,
     "metadata": {},
     "output_type": "execute_result"
    }
   ],
   "source": [
    "list(enumerate(['A','B',\"C\"]))"
   ]
  },
  {
   "cell_type": "code",
   "execution_count": 24,
   "metadata": {},
   "outputs": [
    {
     "data": {
      "text/plain": [
       "[21, 22, 23, 24, 25, 26, 27, 28, 29, 30]"
      ]
     },
     "execution_count": 24,
     "metadata": {},
     "output_type": "execute_result"
    }
   ],
   "source": [
    "for i, v in list(enumerate(l1)):\n",
    "    l1[i] = l1[i]+5\n",
    "l1[:10]    "
   ]
  },
  {
   "cell_type": "code",
   "execution_count": 26,
   "metadata": {},
   "outputs": [
    {
     "name": "stdout",
     "output_type": "stream",
     "text": [
      "Before Adding 5\n",
      "[[1, 2, 3], [4, 5, 6], [7, 8, 9]]\n",
      "After Adding 5\n",
      "[[6, 7, 8], [9, 10, 11], [12, 13, 14]]\n"
     ]
    }
   ],
   "source": [
    "a = [[1,2,3],\n",
    "    [4,5,6],\n",
    "    [7,8,9]]\n",
    "\n",
    "print(\"Before Adding 5\")\n",
    "print(a)\n",
    "for ri, rd in list(enumerate(a)):\n",
    "    for ci, cd in list(enumerate(rd)):\n",
    "        a[ri][ci] += 5\n",
    "        \n",
    "\n",
    "print(\"After Adding 5\")\n",
    "print(a)        "
   ]
  },
  {
   "cell_type": "code",
   "execution_count": 28,
   "metadata": {},
   "outputs": [
    {
     "ename": "TypeError",
     "evalue": "can only concatenate list (not \"int\") to list",
     "output_type": "error",
     "traceback": [
      "\u001b[0;31m---------------------------------------------------------------------------\u001b[0m",
      "\u001b[0;31mTypeError\u001b[0m                                 Traceback (most recent call last)",
      "\u001b[0;32m<ipython-input-28-f71d3d975e63>\u001b[0m in \u001b[0;36m<module>\u001b[0;34m\u001b[0m\n\u001b[1;32m      1\u001b[0m \u001b[0ma\u001b[0m \u001b[0;34m=\u001b[0m \u001b[0;34m[\u001b[0m\u001b[0;36m1\u001b[0m\u001b[0;34m,\u001b[0m\u001b[0;36m2\u001b[0m\u001b[0;34m,\u001b[0m\u001b[0;36m3\u001b[0m\u001b[0;34m]\u001b[0m\u001b[0;34m\u001b[0m\u001b[0;34m\u001b[0m\u001b[0m\n\u001b[0;32m----> 2\u001b[0;31m \u001b[0ma\u001b[0m \u001b[0;34m+\u001b[0m \u001b[0;36m5\u001b[0m\u001b[0;34m\u001b[0m\u001b[0;34m\u001b[0m\u001b[0m\n\u001b[0m",
      "\u001b[0;31mTypeError\u001b[0m: can only concatenate list (not \"int\") to list"
     ]
    }
   ],
   "source": [
    "a = [1,2,3]\n",
    "a + 5"
   ]
  },
  {
   "cell_type": "markdown",
   "metadata": {},
   "source": [
    "#### numpy"
   ]
  },
  {
   "cell_type": "code",
   "execution_count": 10,
   "metadata": {},
   "outputs": [],
   "source": [
    "import numpy as np"
   ]
  },
  {
   "cell_type": "code",
   "execution_count": 32,
   "metadata": {},
   "outputs": [
    {
     "name": "stdout",
     "output_type": "stream",
     "text": [
      "CPU times: user 2.2 ms, sys: 32.1 ms, total: 34.3 ms\n",
      "Wall time: 44.7 ms\n"
     ]
    }
   ],
   "source": [
    "%time l2 = np.arange(1,3000000)"
   ]
  },
  {
   "cell_type": "code",
   "execution_count": 34,
   "metadata": {},
   "outputs": [
    {
     "name": "stdout",
     "output_type": "stream",
     "text": [
      "Dimension: 1\n",
      "Shape: (2999999,)\n",
      "Type: int64\n"
     ]
    }
   ],
   "source": [
    "l1 = np.array([1])\n",
    "print(\"Dimension:\", l2.ndim)\n",
    "print(\"Shape:\", l2.shape)\n",
    "print(\"Type:\", l2.dtype)"
   ]
  },
  {
   "cell_type": "code",
   "execution_count": 38,
   "metadata": {},
   "outputs": [
    {
     "name": "stdout",
     "output_type": "stream",
     "text": [
      "[[1.47125843 2.49071193]\n",
      " [0.10666251 0.12005191]]\n",
      "Dimension: 2\n",
      "Shape: (2, 2)\n",
      "Type: float64\n"
     ]
    }
   ],
   "source": [
    "l1 = np.random.randn(2,2)\n",
    "print(l1)\n",
    "print(\"Dimension:\", l1.ndim)\n",
    "print(\"Shape:\", l1.shape)\n",
    "print(\"Type:\", l1.dtype)\n",
    "#l1[row,col]"
   ]
  },
  {
   "cell_type": "code",
   "execution_count": 40,
   "metadata": {},
   "outputs": [
    {
     "name": "stdout",
     "output_type": "stream",
     "text": [
      "[[[-0.92403551 -0.19492633  0.07289328]\n",
      "  [-0.80882656 -0.23839292 -0.01752686]\n",
      "  [-0.33669569 -1.15779816  1.67631527]]\n",
      "\n",
      " [[ 0.38361036  0.65650523  0.50043071]\n",
      "  [-0.88004281  0.31530807 -0.22970217]\n",
      "  [-0.84590703  0.93786127  0.26952903]]\n",
      "\n",
      " [[ 1.14188197  0.55539167 -0.16307304]\n",
      "  [ 0.51320962 -0.51096165 -2.67776784]\n",
      "  [ 0.884293    0.6102596  -0.04489273]]]\n",
      "Dimension: 3\n",
      "Shape: (3, 3, 3)\n",
      "Type: float64\n"
     ]
    }
   ],
   "source": [
    "l1 = np.random.randn(3,3,3)\n",
    "print(l1)\n",
    "print(\"Dimension:\", l1.ndim)\n",
    "print(\"Shape:\", l1.shape)\n",
    "print(\"Type:\", l1.dtype)"
   ]
  },
  {
   "cell_type": "code",
   "execution_count": 45,
   "metadata": {},
   "outputs": [
    {
     "name": "stdout",
     "output_type": "stream",
     "text": [
      "[[[ 0  1  2]\n",
      "  [ 3  4  5]\n",
      "  [ 6  7  8]]\n",
      "\n",
      " [[ 9 10 11]\n",
      "  [12 13 14]\n",
      "  [15 16 17]]\n",
      "\n",
      " [[18 19 20]\n",
      "  [21 22 23]\n",
      "  [24 25 26]]]\n",
      "Dimension: 3\n",
      "Shape: (3, 3, 3)\n",
      "Type: int64\n"
     ]
    },
    {
     "data": {
      "text/plain": [
       "16"
      ]
     },
     "execution_count": 45,
     "metadata": {},
     "output_type": "execute_result"
    }
   ],
   "source": [
    "l1 = np.arange(27).reshape((3,3,3))\n",
    "print(l1)\n",
    "print(\"Dimension:\", l1.ndim)\n",
    "print(\"Shape:\", l1.shape)\n",
    "print(\"Type:\", l1.dtype)\n",
    "\n",
    "l1[1,2,1]"
   ]
  },
  {
   "cell_type": "markdown",
   "metadata": {},
   "source": [
    "<img src='https://www.pythoninformer.com/img/numpy/3d-array.png'>"
   ]
  },
  {
   "cell_type": "code",
   "execution_count": null,
   "metadata": {},
   "outputs": [],
   "source": [
    "l1[i,j,k]"
   ]
  },
  {
   "cell_type": "code",
   "execution_count": 46,
   "metadata": {},
   "outputs": [
    {
     "name": "stdout",
     "output_type": "stream",
     "text": [
      "[[[ 0  1  2]\n",
      "  [ 3  4  5]\n",
      "  [ 6  7  8]]\n",
      "\n",
      " [[ 9 10 11]\n",
      "  [12 13 14]\n",
      "  [15 16 17]]\n",
      "\n",
      " [[18 19 20]\n",
      "  [21 22 23]\n",
      "  [24 25 26]]]\n"
     ]
    },
    {
     "data": {
      "text/plain": [
       "array([[[ 5,  6,  7],\n",
       "        [ 8,  9, 10],\n",
       "        [11, 12, 13]],\n",
       "\n",
       "       [[14, 15, 16],\n",
       "        [17, 18, 19],\n",
       "        [20, 21, 22]],\n",
       "\n",
       "       [[23, 24, 25],\n",
       "        [26, 27, 28],\n",
       "        [29, 30, 31]]])"
      ]
     },
     "execution_count": 46,
     "metadata": {},
     "output_type": "execute_result"
    }
   ],
   "source": [
    "l1 = np.arange(27).reshape((3,3,3))\n",
    "print(l1)\n",
    "\n",
    "l1 = l1 + 5\n",
    "l1"
   ]
  },
  {
   "cell_type": "markdown",
   "metadata": {},
   "source": [
    "# A Multidimensional Array Object"
   ]
  },
  {
   "cell_type": "code",
   "execution_count": 48,
   "metadata": {},
   "outputs": [
    {
     "name": "stdout",
     "output_type": "stream",
     "text": [
      "[ 1  2  3  4  5  6  7  8  9 10]\n",
      "Dimension: 1\n",
      "Shape: (10,)\n",
      "Type: int64\n"
     ]
    }
   ],
   "source": [
    "l1 = np.arange(1,11)\n",
    "print(l1)\n",
    "print(\"Dimension:\", l1.ndim)\n",
    "print(\"Shape:\", l1.shape)\n",
    "print(\"Type:\", l1.dtype)"
   ]
  },
  {
   "cell_type": "code",
   "execution_count": 61,
   "metadata": {},
   "outputs": [
    {
     "name": "stdout",
     "output_type": "stream",
     "text": [
      "[[ 1  2  3  4  5]\n",
      " [ 6  7  8  9 10]\n",
      " [11 12 13 14 15]\n",
      " [16 17 18 19 20]\n",
      " [21 22 23 24 25]]\n",
      "Dimension: 2\n",
      "Shape: (5, 5)\n",
      "Type: int64\n"
     ]
    }
   ],
   "source": [
    "l1 = np.arange(1,26).reshape((5,5))\n",
    "print(l1)\n",
    "print(\"Dimension:\", l1.ndim)\n",
    "print(\"Shape:\", l1.shape)\n",
    "print(\"Type:\", l1.dtype)\n"
   ]
  },
  {
   "cell_type": "code",
   "execution_count": 58,
   "metadata": {},
   "outputs": [
    {
     "name": "stdout",
     "output_type": "stream",
     "text": [
      "[[[[[ 2.17997245e-01  1.17636034e-01 -1.88043211e-01]\n",
      "    [-8.38270977e-01  5.73058264e-01  2.62179000e+00]\n",
      "    [ 2.94423466e-01  1.26342188e+00 -1.11420967e+00]]\n",
      "\n",
      "   [[ 1.41217879e-01  8.41753583e-01 -2.09826989e-01]\n",
      "    [-6.47256815e-01  6.72733701e-01 -4.23388019e-01]\n",
      "    [-3.57643586e-01  3.65479467e-01  1.82631594e-01]]\n",
      "\n",
      "   [[-1.20782230e+00  5.24708364e-01 -2.28088869e-01]\n",
      "    [-5.28284704e-01 -1.51464487e-01 -1.68459793e+00]\n",
      "    [ 1.03134214e+00 -3.40389256e-01  1.15188231e+00]]]\n",
      "\n",
      "\n",
      "  [[[-9.21864497e-01  1.76824878e+00  3.24093256e-01]\n",
      "    [ 3.57961717e-01  1.07922793e+00 -4.53412373e-02]\n",
      "    [-2.39591182e-01  2.94417738e-01  6.52140946e-01]]\n",
      "\n",
      "   [[-1.38735478e+00  3.61815140e-01  8.14982045e-01]\n",
      "    [ 3.73525987e-01  2.63650414e-02  5.71849998e-02]\n",
      "    [ 1.04681139e+00 -3.77448023e-01 -4.05741767e-01]]\n",
      "\n",
      "   [[ 5.97876454e-01 -1.20072196e+00 -1.00081816e+00]\n",
      "    [ 4.90401155e-01  1.57397803e-02  6.69907507e-01]\n",
      "    [ 9.68350211e-01  1.86170697e+00  4.38177477e-01]]]\n",
      "\n",
      "\n",
      "  [[[ 6.51272156e-01 -8.95202330e-01  5.69899842e-01]\n",
      "    [ 4.27459113e-01  6.05828860e-02  4.47906008e-01]\n",
      "    [-6.44858835e-01  9.56350297e-01  1.92242914e+00]]\n",
      "\n",
      "   [[-1.35372390e+00  8.19330890e-01  4.71410005e-02]\n",
      "    [ 1.16513471e+00 -1.78460388e-01 -2.62078566e-01]\n",
      "    [-4.86158113e-01  1.09596010e-01  6.36327188e-01]]\n",
      "\n",
      "   [[-3.66011565e-01  6.23837527e-02 -1.04295724e+00]\n",
      "    [-9.54516443e-01  1.25221296e+00 -1.28389530e-01]\n",
      "    [-1.93177118e+00 -3.90636580e-01  1.50945095e+00]]]]\n",
      "\n",
      "\n",
      "\n",
      " [[[[ 5.77969077e-01  1.93722161e-01  6.12926761e-01]\n",
      "    [-1.12079509e+00  8.10530192e-01 -1.02876038e+00]\n",
      "    [-6.43788529e-01 -3.04971245e-01 -8.90114587e-01]]\n",
      "\n",
      "   [[-5.52613390e-01 -6.99766896e-01 -1.96915079e+00]\n",
      "    [-5.63716090e-01  1.40875279e-01 -1.41266715e+00]\n",
      "    [-9.12449471e-01 -1.44375534e+00  8.61759446e-01]]\n",
      "\n",
      "   [[ 1.75937162e-01 -1.65692365e+00  1.57955362e+00]\n",
      "    [ 1.37704253e+00 -2.10805671e+00 -8.14690705e-01]\n",
      "    [-2.65558623e-01  2.62688043e+00 -6.32168722e-03]]]\n",
      "\n",
      "\n",
      "  [[[ 1.12300004e+00 -4.15057663e-01 -1.23641894e+00]\n",
      "    [-1.49310094e+00  6.66210897e-01 -9.58838151e-01]\n",
      "    [-1.06156853e+00 -8.47854750e-01  2.40679426e-01]]\n",
      "\n",
      "   [[-1.17440493e+00  4.66499005e-01 -8.92931884e-01]\n",
      "    [-6.23283898e-01  8.83663041e-01  3.69898356e-01]\n",
      "    [ 2.06149904e+00  1.65855147e+00  1.17332003e+00]]\n",
      "\n",
      "   [[-4.71428224e-01  2.28632454e+00  1.10541013e-01]\n",
      "    [ 2.83820212e-01 -6.55447687e-02 -1.74903626e-01]\n",
      "    [ 1.40863827e-01  2.94497236e-03 -8.58541542e-01]]]\n",
      "\n",
      "\n",
      "  [[[ 1.83480978e+00  7.53577413e-01  8.17736609e-01]\n",
      "    [-5.80019828e-01 -1.50361543e+00  3.96637374e-01]\n",
      "    [ 6.17151241e-01  7.18747225e-01  1.33083977e+00]]\n",
      "\n",
      "   [[ 5.87570308e-01  7.20126350e-01 -6.94212373e-01]\n",
      "    [ 4.65340715e-01 -3.89054790e-01  1.98532715e-01]\n",
      "    [-1.90503065e+00  1.36598825e+00 -1.12591544e+00]]\n",
      "\n",
      "   [[ 5.17852288e-01 -1.21156511e+00  2.19250758e-01]\n",
      "    [-8.60319319e-01 -1.48543624e-02  4.52080476e-02]\n",
      "    [ 1.62045903e+00  3.13396969e-01 -7.42678115e-01]]]]\n",
      "\n",
      "\n",
      "\n",
      " [[[[ 8.38871774e-01  1.61586843e+00 -1.62556686e+00]\n",
      "    [-2.66742140e-01 -1.26934385e+00  9.33137367e-01]\n",
      "    [ 1.00523084e+00  5.15744860e-01 -6.89806691e-01]]\n",
      "\n",
      "   [[ 8.54247066e-01 -3.75495815e-01 -7.41970681e-01]\n",
      "    [ 2.13342632e-01  1.71519073e+00 -1.25212555e+00]\n",
      "    [ 3.16475589e-01 -6.09309460e-01  9.79010916e-01]]\n",
      "\n",
      "   [[ 1.88559470e-01 -5.07554897e-01 -1.59090376e+00]\n",
      "    [-3.25838372e-01  1.27640598e-01 -2.13988296e+00]\n",
      "    [-1.44878687e-01 -6.97225166e-01  2.94101925e-01]]]\n",
      "\n",
      "\n",
      "  [[[-7.86033248e-01  7.53612759e-01 -4.37169373e-01]\n",
      "    [-5.69174853e-01 -3.70252505e-01 -1.06452357e+00]\n",
      "    [-1.80677578e+00 -1.42781133e+00 -1.54295563e+00]]\n",
      "\n",
      "   [[ 4.26097426e-01  1.20543311e+00 -4.34160983e-02]\n",
      "    [ 1.05879946e+00  1.10080559e+00  7.09769229e-01]\n",
      "    [-1.53624721e+00 -1.62106721e+00  3.64355104e-01]]\n",
      "\n",
      "   [[ 1.80756308e+00  1.53814596e+00 -2.27718793e+00]\n",
      "    [ 3.12106731e-01 -3.06297543e-01  6.25235102e-01]\n",
      "    [ 2.21390478e-01  6.08890088e-01 -9.59773212e-01]]]\n",
      "\n",
      "\n",
      "  [[[-4.06951909e-01  7.37812190e-01  1.63539059e-01]\n",
      "    [ 1.41342826e+00  3.23035001e-01  8.06561325e-01]\n",
      "    [ 7.98440183e-01  5.51694862e-01  5.71108652e-01]]\n",
      "\n",
      "   [[-1.43908518e+00 -2.06950312e+00  3.83733911e-02]\n",
      "    [ 2.43667254e-03  5.66880174e-01  1.61763364e+00]\n",
      "    [ 8.00126121e-01  1.82433224e+00 -9.73332252e-01]]\n",
      "\n",
      "   [[-5.02527254e-01 -7.35393890e-01  1.36746083e+00]\n",
      "    [ 6.22066869e-01  1.95588997e-01 -1.02824375e-01]\n",
      "    [ 5.19470316e-01  4.18231425e-01 -8.12448935e-01]]]]]\n",
      "Dimension: 5\n",
      "Shape: (3, 3, 3, 3, 3)\n",
      "itemsize 8\n",
      "Type: float64\n"
     ]
    }
   ],
   "source": [
    "l1 = np.random.randn(3,3,3,3,3)\n",
    "print(l1)\n",
    "print(\"Dimension:\", l1.ndim)\n",
    "print(\"Shape:\", l1.shape)\n",
    "print(\"itemsize\", l1.itemsize)\n",
    "print(\"Type:\", l1.dtype)"
   ]
  },
  {
   "cell_type": "code",
   "execution_count": 69,
   "metadata": {},
   "outputs": [
    {
     "name": "stdout",
     "output_type": "stream",
     "text": [
      "[[[1.         1.41421356 1.73205081]\n",
      "  [2.         2.23606798 2.44948974]\n",
      "  [2.64575131 2.82842712 3.        ]]\n",
      "\n",
      " [[3.16227766 3.31662479 3.46410162]\n",
      "  [3.60555128 3.74165739 3.87298335]\n",
      "  [4.         4.12310563 4.24264069]]\n",
      "\n",
      " [[4.35889894 4.47213595 4.58257569]\n",
      "  [4.69041576 4.79583152 4.89897949]\n",
      "  [5.         5.09901951 5.19615242]]]\n"
     ]
    }
   ],
   "source": [
    "a = np.arange(1,28).reshape((3,3,3))\n",
    "print(a ** .5)"
   ]
  },
  {
   "cell_type": "markdown",
   "metadata": {},
   "source": [
    "# Creating ndarrays"
   ]
  },
  {
   "cell_type": "markdown",
   "metadata": {},
   "source": [
    "#### np.array"
   ]
  },
  {
   "cell_type": "code",
   "execution_count": 70,
   "metadata": {},
   "outputs": [
    {
     "name": "stdout",
     "output_type": "stream",
     "text": [
      "<class 'list'>\n",
      "False\n"
     ]
    },
    {
     "data": {
      "text/plain": [
       "numpy.ndarray"
      ]
     },
     "execution_count": 70,
     "metadata": {},
     "output_type": "execute_result"
    }
   ],
   "source": [
    "# Deep Copy\n",
    "l = [1,2,3]\n",
    "print(type(l))\n",
    "\n",
    "a = np.array(l)\n",
    "b = np.array(a)\n",
    "\n",
    "print(a is b)\n",
    "type(a)"
   ]
  },
  {
   "cell_type": "markdown",
   "metadata": {},
   "source": [
    "### np.asarray"
   ]
  },
  {
   "cell_type": "code",
   "execution_count": 73,
   "metadata": {},
   "outputs": [
    {
     "name": "stdout",
     "output_type": "stream",
     "text": [
      "<class 'list'>\n",
      "True\n",
      "False\n",
      "False\n"
     ]
    },
    {
     "data": {
      "text/plain": [
       "numpy.ndarray"
      ]
     },
     "execution_count": 73,
     "metadata": {},
     "output_type": "execute_result"
    }
   ],
   "source": [
    "# 1 array->Shallow Copy\n",
    "# 2 array->Change dtype -> Deep Copy\n",
    "# 3 if not array->Deep copy\n",
    "l = [1,2,3]\n",
    "print(type(l))\n",
    "\n",
    "a = np.asarray(l) #2\n",
    "b = np.asarray(a) #1\n",
    "c = np.asarray(a, dtype=np.float64)#3\n",
    "\n",
    "print(a is b) # 2\n",
    "print(l is a) # 1\n",
    "print(c is a) # 3\n",
    "type(a)"
   ]
  },
  {
   "cell_type": "code",
   "execution_count": 74,
   "metadata": {},
   "outputs": [
    {
     "name": "stdout",
     "output_type": "stream",
     "text": [
      "%history\n",
      "sum([1,3,2])\n",
      "%history\n",
      "!touch fileName.py\n",
      "%load fileName.py\n",
      "%run fileName.py\n",
      "%time sum([1,3,4])\n",
      "%time l1 = list(range(1,2000000))\n",
      "%time l1 = list(range(1,3000000))\n",
      "import numpy as np\n",
      "%time l1 = np.arange(1,2000000)\n",
      "%time l2 = np.arange(1,2000000)\n",
      "%time l1 = list(range(1,3000000))\n",
      "l1[:10]\n",
      "%time [x+5 for x in l1]\n",
      "%time [x+5 for x in l1][:10]\n",
      "enumerate(['A','B',\"C\"])\n",
      "list(enumerate(['A','B',\"C\"]))\n",
      "for i, v for list(enumerate(l1)):\n",
      "    l1[i] = l1[i]+5\n",
      "l1[:10]\n",
      "for i, v in list(enumerate(l1)):\n",
      "    l1[i] = l1[i]+5\n",
      "l1[:10]\n",
      "%time\n",
      "for i, v in list(enumerate(l1)):\n",
      "    l1[i] = l1[i]+5\n",
      "l1[:10]\n",
      "\n",
      "%time for i, v in list(enumerate(l1)):\n",
      "    l1[i] = l1[i]+5\n",
      "l1[:10]\n",
      "for i, v in list(enumerate(l1)):\n",
      "    %time l1[i] = l1[i]+5\n",
      "l1[:10]\n",
      "for i, v in list(enumerate(l1)):\n",
      "    l1[i] = l1[i]+5\n",
      "l1[:10]\n",
      "a = [[1,2,3],\n",
      "    [4,5,6],\n",
      "    [7,8,9]]\n",
      "\n",
      "for ri, rd in list(enumerate(a)):\n",
      "    for ci, cd in list(enumerate(rd)):\n",
      "        a[ri][ci] += 5\n",
      "a = [[1,2,3],\n",
      "    [4,5,6],\n",
      "    [7,8,9]]\n",
      "\n",
      "print(\"Before Adding 5\")\n",
      "print(a)\n",
      "for ri, rd in list(enumerate(a)):\n",
      "    for ci, cd in list(enumerate(rd)):\n",
      "        a[ri][ci] += 5\n",
      "        \n",
      "\n",
      "print(\"After Adding 5\")\n",
      "print(a)\n",
      "%time l2 = np.arange(1,3000000)\n",
      "a = [1,2,3]\n",
      "a + 5\n",
      "%time l2 = np.arange(1,3000000)\n",
      "l2[:10]\n",
      "%time l3 = l2 + 5\n",
      "l3[:10]\n",
      "%time l2 + 5\n",
      "%time l2 = np.arange(1,3000000)\n",
      "print(\"Dimension:\", l2.ndim)\n",
      "print(\"Shape:\", l2.shape)\n",
      "print(\"Type:\", l2.dtype)\n",
      "l1 = np.array([1])\n",
      "print(\"Dimension:\", l2.ndim)\n",
      "print(\"Shape:\", l2.shape)\n",
      "print(\"Type:\", l2.dtype)\n",
      "l1 = np.random.randn(2,2)\n",
      "print(l2)\n",
      "print(\"Dimension:\", l2.ndim)\n",
      "print(\"Shape:\", l2.shape)\n",
      "print(\"Type:\", l2.dtype)\n",
      "l1 = np.random.randn(2,2)\n",
      "print(l1)\n",
      "print(\"Dimension:\", l1.ndim)\n",
      "print(\"Shape:\", l1.shape)\n",
      "print(\"Type:\", l1.dtype)\n",
      "l1 = np.random.randn(3,5,5)\n",
      "print(l1)\n",
      "print(\"Dimension:\", l1.ndim)\n",
      "print(\"Shape:\", l1.shape)\n",
      "print(\"Type:\", l1.dtype)\n",
      "l1 = np.random.randn(2,2)\n",
      "print(l1)\n",
      "print(\"Dimension:\", l1.ndim)\n",
      "print(\"Shape:\", l1.shape)\n",
      "print(\"Type:\", l1.dtype)\n",
      "#l1[row,col]\n",
      "l1 = np.random.randn(3,3,3)\n",
      "print(l1)\n",
      "print(\"Dimension:\", l1.ndim)\n",
      "print(\"Shape:\", l1.shape)\n",
      "print(\"Type:\", l1.dtype)\n",
      "l1 = np.random.randn(3,3,3)\n",
      "print(l1)\n",
      "print(\"Dimension:\", l1.ndim)\n",
      "print(\"Shape:\", l1.shape)\n",
      "print(\"Type:\", l1.dtype)\n",
      "l1 = np.arange(27).reshape((3,3,3))\n",
      "print(l1)\n",
      "print(\"Dimension:\", l1.ndim)\n",
      "print(\"Shape:\", l1.shape)\n",
      "print(\"Type:\", l1.dtype)\n",
      "l1 = np.arange(27).reshape((3,3,3))\n",
      "print(l1)\n",
      "print(\"Dimension:\", l1.ndim)\n",
      "print(\"Shape:\", l1.shape)\n",
      "print(\"Type:\", l1.dtype)\n",
      "\n",
      "l[1]\n",
      "l1 = np.arange(27).reshape((3,3,3))\n",
      "print(l1)\n",
      "print(\"Dimension:\", l1.ndim)\n",
      "print(\"Shape:\", l1.shape)\n",
      "print(\"Type:\", l1.dtype)\n",
      "\n",
      "l1[1]\n",
      "l1 = np.arange(27).reshape((3,3,3))\n",
      "print(l1)\n",
      "print(\"Dimension:\", l1.ndim)\n",
      "print(\"Shape:\", l1.shape)\n",
      "print(\"Type:\", l1.dtype)\n",
      "\n",
      "l1[1,2]\n",
      "l1 = np.arange(27).reshape((3,3,3))\n",
      "print(l1)\n",
      "print(\"Dimension:\", l1.ndim)\n",
      "print(\"Shape:\", l1.shape)\n",
      "print(\"Type:\", l1.dtype)\n",
      "\n",
      "l1[1,2,1]\n",
      "l1 = np.arange(27).reshape((3,3,3))\n",
      "print(l1)\n",
      "\n",
      "l1 = l1 + 5\n",
      "l1\n",
      "a = np.arange(1,11)\n",
      "print(l1)\n",
      "print(\"Dimension:\", l1.ndim)\n",
      "print(\"Shape:\", l1.shape)\n",
      "print(\"Type:\", l1.dtype)\n",
      "l1 = np.arange(1,11)\n",
      "print(l1)\n",
      "print(\"Dimension:\", l1.ndim)\n",
      "print(\"Shape:\", l1.shape)\n",
      "print(\"Type:\", l1.dtype)\n",
      "l1 = np.arange(1,26)\n",
      "print(l1)\n",
      "print(\"Dimension:\", l1.ndim)\n",
      "print(\"Shape:\", l1.shape)\n",
      "print(\"Type:\", l1.dtype)\n",
      "l1 = np.arange(1,26).reshape((5,5))\n",
      "print(l1)\n",
      "print(\"Dimension:\", l1.ndim)\n",
      "print(\"Shape:\", l1.shape)\n",
      "print(\"Type:\", l1.dtype)\n",
      "l1 = np.arange(1,13).reshape((3,4))\n",
      "#l1 = np.arange(1,13).reshape((2,6))\n",
      "#l1 = np.arange(1,13).reshape((4,3))\n",
      "#l1 = np.arange(1,13).reshape((6,2))\n",
      "l1 = np.arange(1,28).reshape((3,3,3))\n",
      "\n",
      "\n",
      "print(l1)\n",
      "print(\"Dimension:\", l1.ndim)\n",
      "print(\"Shape:\", l1.shape)\n",
      "print(\"Type:\", l1.dtype)\n",
      "#l1 = np.arange(1,13).reshape((3,4))\n",
      "#l1 = np.arange(1,13).reshape((2,6))\n",
      "#l1 = np.arange(1,13).reshape((4,3))\n",
      "#l1 = np.arange(1,13).reshape((6,2))\n",
      "l1 = np.arange(1,28).reshape((3,3,3))\n",
      "\n",
      "\n",
      "print(l1)\n",
      "print(\"Dimension:\", l1.ndim)\n",
      "print(\"Shape:\", l1.shape)\n",
      "print(\"Type:\", l1.dtype)\n",
      "#l1 = np.arange(1,13).reshape((3,4))\n",
      "#l1 = np.arange(1,13).reshape((2,6))\n",
      "#l1 = np.arange(1,13).reshape((4,3))\n",
      "#l1 = np.arange(1,13).reshape((6,2))\n",
      "l1 = np.arange(1,28).reshape((3,3,9))\n",
      "\n",
      "\n",
      "print(l1)\n",
      "print(\"Dimension:\", l1.ndim)\n",
      "print(\"Shape:\", l1.shape)\n",
      "print(\"Type:\", l1.dtype)\n",
      "#l1 = np.arange(1,13).reshape((3,4))\n",
      "#l1 = np.arange(1,13).reshape((2,6))\n",
      "#l1 = np.arange(1,13).reshape((4,3))\n",
      "#l1 = np.arange(1,13).reshape((6,2))\n",
      "l1 = np.arange(1,28).reshape((3,3,3))\n",
      "\n",
      "\n",
      "print(l1)\n",
      "print(\"Dimension:\", l1.ndim)\n",
      "print(\"Shape:\", l1.shape)\n",
      "print(\"itemsize\", l1.itemsize)\n",
      "print(\"Type:\", l1.dtype)\n",
      "l1 = np.random.randn(3,3)\n",
      "print(l1)\n",
      "print(\"Dimension:\", l1.ndim)\n",
      "print(\"Shape:\", l1.shape)\n",
      "print(\"itemsize\", l1.itemsize)\n",
      "print(\"Type:\", l1.dtype)\n",
      "l1 = np.random.randn(3,3,3)\n",
      "print(l1)\n",
      "print(\"Dimension:\", l1.ndim)\n",
      "print(\"Shape:\", l1.shape)\n",
      "print(\"itemsize\", l1.itemsize)\n",
      "print(\"Type:\", l1.dtype)\n",
      "l1 = np.random.randn(3,3,3,3)\n",
      "print(l1)\n",
      "print(\"Dimension:\", l1.ndim)\n",
      "print(\"Shape:\", l1.shape)\n",
      "print(\"itemsize\", l1.itemsize)\n",
      "print(\"Type:\", l1.dtype)\n",
      "l1 = np.random.randn(3,3,3,3,3)\n",
      "print(l1)\n",
      "print(\"Dimension:\", l1.ndim)\n",
      "print(\"Shape:\", l1.shape)\n",
      "print(\"itemsize\", l1.itemsize)\n",
      "print(\"Type:\", l1.dtype)\n",
      "l1 = np.arange(1,26).reshape((5,5))\n",
      "print(l1)\n",
      "print(\"Dimension:\", l1.ndim)\n",
      "print(\"Shape:\", l1.shape)\n",
      "print(\"Type:\", l1.dtype)\n",
      "\n",
      "l1 % 2 == 0\n",
      "l1 = np.arange(1,26).reshape((5,5))\n",
      "print(l1)\n",
      "print(\"Dimension:\", l1.ndim)\n",
      "print(\"Shape:\", l1.shape)\n",
      "print(\"Type:\", l1.dtype)\n",
      "\n",
      "l1[l1 % 2 == 0]\n",
      "l1 = np.arange(1,26).reshape((5,5))\n",
      "print(l1)\n",
      "print(\"Dimension:\", l1.ndim)\n",
      "print(\"Shape:\", l1.shape)\n",
      "print(\"Type:\", l1.dtype)\n",
      "a = np.arange(1,28).reshape((3,3,3))\n",
      "print(a)\n",
      "a = np.arange(1,28).reshape((3,3,3))\n",
      "print(a)\n",
      "print(a + 5)\n",
      "a = np.arange(1,28).reshape((3,3,3))\n",
      "print(a + 5)\n",
      "a = np.arange(1,28).reshape((3,3,3))\n",
      "print(a * 5)\n",
      "a = np.arange(1,28).reshape((3,3,3))\n",
      "print(a / 5)\n",
      "a = np.arange(1,28).reshape((3,3,3))\n",
      "print(a % 5)\n",
      "a = np.arange(1,28).reshape((3,3,3))\n",
      "print(a ** 2)\n",
      "a = np.arange(1,28).reshape((3,3,3))\n",
      "print(a ** .5)\n",
      "l = [1,2,3]\n",
      "print(type(l))\n",
      "\n",
      "a = np.array(l)\n",
      "b = np.array(a)\n",
      "\n",
      "print(a is b)\n",
      "type(a)\n",
      "# Deep Copy\n",
      "l = [1,2,3]\n",
      "print(type(l))\n",
      "\n",
      "a = np.asarray(l)\n",
      "b = np.asarray(a)\n",
      "\n",
      "print(a is b)\n",
      "type(a)\n",
      "# array->Shallow Copy\n",
      "# array->Change dtype -> Deep Copy\n",
      "l = [1,2,3]\n",
      "print(type(l))\n",
      "\n",
      "a = np.asarray(l)\n",
      "b = np.asarray(a)\n",
      "\n",
      "print(a is b)\n",
      "print(l is a)\n",
      "type(a)\n",
      "# 1 array->Shallow Copy\n",
      "# 2 array->Change dtype -> Deep Copy\n",
      "# 3 if not array->Deep copy\n",
      "l = [1,2,3]\n",
      "print(type(l))\n",
      "\n",
      "a = np.asarray(l) #2\n",
      "b = np.asarray(a) #1\n",
      "c = np.asarray(a, dtype=np.float64)#3\n",
      "\n",
      "print(a is b) # 2\n",
      "print(l is a) # 1\n",
      "print(c is a) # 3\n",
      "type(a)\n",
      "%history\n"
     ]
    }
   ],
   "source": [
    "%history"
   ]
  },
  {
   "cell_type": "code",
   "execution_count": null,
   "metadata": {},
   "outputs": [],
   "source": []
  }
 ],
 "metadata": {
  "kernelspec": {
   "display_name": "Python 3",
   "language": "python",
   "name": "python3"
  },
  "language_info": {
   "codemirror_mode": {
    "name": "ipython",
    "version": 3
   },
   "file_extension": ".py",
   "mimetype": "text/x-python",
   "name": "python",
   "nbconvert_exporter": "python",
   "pygments_lexer": "ipython3",
   "version": "3.7.5"
  }
 },
 "nbformat": 4,
 "nbformat_minor": 2
}
