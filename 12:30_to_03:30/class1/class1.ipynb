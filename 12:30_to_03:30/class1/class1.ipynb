{
 "cells": [
  {
   "cell_type": "code",
   "execution_count": 1,
   "metadata": {},
   "outputs": [
    {
     "name": "stdout",
     "output_type": "stream",
     "text": [
      "Pakistan zinda bad\n",
      "we are pakistani\n"
     ]
    }
   ],
   "source": [
    "print(\"Pakistan zinda bad\")\n",
    "print(\"we are pakistani\")"
   ]
  },
  {
   "cell_type": "code",
   "execution_count": 2,
   "metadata": {},
   "outputs": [
    {
     "name": "stdout",
     "output_type": "stream",
     "text": [
      "Hello world\n",
      "pakistan\n"
     ]
    }
   ],
   "source": [
    "print(\"Hello world\")\n",
    "print(\"pakistan\")"
   ]
  },
  {
   "cell_type": "code",
   "execution_count": 5,
   "metadata": {},
   "outputs": [
    {
     "name": "stdout",
     "output_type": "stream",
     "text": [
      "Bahria University\n"
     ]
    }
   ],
   "source": [
    "print('Bahria University')"
   ]
  },
  {
   "cell_type": "code",
   "execution_count": 4,
   "metadata": {},
   "outputs": [
    {
     "name": "stdout",
     "output_type": "stream",
     "text": [
      "Bahria University\n"
     ]
    }
   ],
   "source": [
    "print(\"Bahria University\")"
   ]
  },
  {
   "cell_type": "markdown",
   "metadata": {},
   "source": [
    "# Bahria University Islamabad\n",
    "- 12:15 to 03:15"
   ]
  },
  {
   "cell_type": "markdown",
   "metadata": {},
   "source": [
    "# pakistan"
   ]
  },
  {
   "cell_type": "raw",
   "metadata": {},
   "source": [
    "function abc(a, b){\n",
    "    return a + b;\n",
    "}"
   ]
  },
  {
   "cell_type": "code",
   "execution_count": 9,
   "metadata": {},
   "outputs": [
    {
     "name": "stdout",
     "output_type": "stream",
     "text": [
      "Enter Your NameAsif Khan\n",
      "Enter your Father's nameAbid Khan\n",
      "UniversityBahria University\n",
      "\n",
      "PIAIC ISLAMABAD BATCH3\n",
      "Name : Asif Khan\n",
      "Father_Name: Abid Khan \n",
      "University: Bahria University\n",
      "\n"
     ]
    }
   ],
   "source": [
    "name = input(\"Enter Your Name\")\n",
    "father_name = input(\"Enter your Father's name\")\n",
    "uni = input(\"University\")\n",
    "\n",
    "\n",
    "message = \"\"\"\n",
    "PIAIC ISLAMABAD BATCH3\n",
    "Name : {}\n",
    "Father_Name: {} \n",
    "University: {}\n",
    "\"\"\"\n",
    "\n",
    "message1 = message.format(name, father_name, uni)\n",
    "\n",
    "print(message1)"
   ]
  },
  {
   "cell_type": "raw",
   "metadata": {},
   "source": [
    "PIAIC ISLAMABAD BATCH3\n",
    "BAHRIA UNIVERSITY \n",
    "Name: ?\n",
    "Father's Name : ?\n",
    "Phy           : ?\n",
    "Che           : ?\n",
    "Mat           : ?\n",
    "Eng           : ?\n",
    "Urd           : ?\n",
    "Total         : ?\n",
    "percentage    : ?\n",
    "\n"
   ]
  }
 ],
 "metadata": {
  "kernelspec": {
   "display_name": "Python 3",
   "language": "python",
   "name": "python3"
  },
  "language_info": {
   "codemirror_mode": {
    "name": "ipython",
    "version": 3
   },
   "file_extension": ".py",
   "mimetype": "text/x-python",
   "name": "python",
   "nbconvert_exporter": "python",
   "pygments_lexer": "ipython3",
   "version": "3.7.1"
  }
 },
 "nbformat": 4,
 "nbformat_minor": 2
}
